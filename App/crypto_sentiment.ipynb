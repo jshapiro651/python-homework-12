{
 "cells": [
  {
   "cell_type": "markdown",
   "metadata": {},
   "source": [
    "# Unit 12 - Tales from the Crypto\n",
    "\n",
    "---\n"
   ]
  },
  {
   "cell_type": "markdown",
   "metadata": {},
   "source": [
    "## 1. Sentiment Analysis\n",
    "\n",
    "Use the [newsapi](https://newsapi.org/) to pull the latest news articles for Bitcoin and Ethereum and create a DataFrame of sentiment scores for each coin.\n",
    "\n",
    "Use descriptive statistics to answer the following questions:\n",
    "1. Which coin had the highest mean positive score?\n",
    "2. Which coin had the highest negative score?\n",
    "3. Which coin had the highest positive score?"
   ]
  },
  {
   "cell_type": "code",
   "execution_count": 6,
   "metadata": {},
   "outputs": [
    {
     "name": "stderr",
     "output_type": "stream",
     "text": [
      "[nltk_data] Downloading package vader_lexicon to\n",
      "[nltk_data]     /Users/jason/nltk_data...\n",
      "[nltk_data]   Package vader_lexicon is already up-to-date!\n"
     ]
    }
   ],
   "source": [
    "# Initial imports\n",
    "import os\n",
    "import pandas as pd\n",
    "import nltk as nltk\n",
    "from dotenv import load_dotenv\n",
    "from newsapi import NewsApiClient\n",
    "from nltk.sentiment.vader import SentimentIntensityAnalyzer\n",
    "\n",
    "nltk.download('vader_lexicon')\n",
    "analyzer = SentimentIntensityAnalyzer()\n",
    "%matplotlib inline"
   ]
  },
  {
   "cell_type": "code",
   "execution_count": 7,
   "metadata": {},
   "outputs": [],
   "source": [
    "# Read your api key environment variable\n",
    "load_dotenv()\n",
    "api_key = os.getenv(\"NEWS_API\")"
   ]
  },
  {
   "cell_type": "code",
   "execution_count": 8,
   "metadata": {},
   "outputs": [],
   "source": [
    "# Create a newsapi client\n",
    "newsapi = NewsApiClient(api_key=api_key)"
   ]
  },
  {
   "cell_type": "code",
   "execution_count": 12,
   "metadata": {},
   "outputs": [
    {
     "data": {
      "text/plain": [
       "{'status': 'ok',\n",
       " 'totalResults': 7882,\n",
       " 'articles': [{'source': {'id': 'reuters', 'name': 'Reuters'},\n",
       "   'author': None,\n",
       "   'title': 'Rouble-crypto trading soars as sanctions hit Russian currency - Reuters',\n",
       "   'description': 'Trading volumes between the Russian rouble and the Tether cryptocurrency spiked sharply on Monday as the local currency tumbled to a record low on Western sanctions, data shared with Reuters showed.',\n",
       "   'url': 'https://www.reuters.com/markets/europe/rouble-crypto-trading-soars-sanctions-hit-russian-currency-2022-02-28/',\n",
       "   'urlToImage': 'https://www.reuters.com/pf/resources/images/reuters/reuters-default.png?d=75',\n",
       "   'publishedAt': '2022-02-28T17:53:00Z',\n",
       "   'content': 'LONDON, Feb 28 (Reuters) - Trading volumes between the Russian rouble and the Tether cryptocurrency spiked sharply on Monday as the local currency tumbled to a record low on Western sanctions, data s… [+1745 chars]'},\n",
       "  {'source': {'id': 'reuters', 'name': 'Reuters'},\n",
       "   'author': None,\n",
       "   'title': 'Cryptocurrencies in a time of war - Reuters.com',\n",
       "   'description': 'Cryptocurrencies have been close to the headlines since Russia invaded Ukraine, with the ever-volatile bitcoin in demand in Russia and beyond.',\n",
       "   'url': 'https://www.reuters.com/technology/cryptocurrencies-time-war-2022-03-04/',\n",
       "   'urlToImage': 'https://www.reuters.com/resizer/o-neidYH62soGCDm3MOwoSkkRqc=/1200x628/smart/filters:quality(80)/cloudfront-us-east-2.images.arcpublishing.com/reuters/AOEOU7DFBRN5ZA32VLFEUPFGKY.jpg',\n",
       "   'publishedAt': '2022-03-04T15:01:00Z',\n",
       "   'content': 'LONDON, March 4 (Reuters) - Cryptocurrencies have been close to the headlines since Russia invaded Ukraine, with the ever-volatile bitcoin in demand in Russia and beyond.\\r\\nHere are some charts that l… [+3634 chars]'},\n",
       "  {'source': {'id': 'the-verge', 'name': 'The Verge'},\n",
       "   'author': 'Elizabeth Lopatto',\n",
       "   'title': 'How Ukrainians are fundraising in cryptocurrency',\n",
       "   'description': 'Millions of dollars of cryptocurrency have flowed into Ukraine after it was attacked by Russia. Crypto was already popular — and proponents say it gets donations to those in need faster.',\n",
       "   'url': 'https://www.theverge.com/2022/2/26/22952357/ukraine-bitcoin-ethereum-donation-vitalik-buterin',\n",
       "   'urlToImage': 'https://cdn.vox-cdn.com/thumbor/teEVxppIZ_JTW-LSIR-MzRcovdk=/0x146:2040x1214/fit-in/1200x630/cdn.vox-cdn.com/uploads/chorus_asset/file/10418913/jbareham_180313_1777_bitcoin_cryptocurrency_0002.jpg',\n",
       "   'publishedAt': '2022-02-26T20:29:04Z',\n",
       "   'content': 'Illustration by James Bareham / The Verge\\r\\n\\n \\n\\n\\n More than $15 million has been donated so far More than $15 million in cryptocurrency has been donated to Ukrainian groups since Russia attacked the c… [+7442 chars]'},\n",
       "  {'source': {'id': None, 'name': 'New York Times'},\n",
       "   'author': 'Katie Benner',\n",
       "   'title': 'Justice Dept. Announces Raft of Changes Meant to Deter Cyberthreats',\n",
       "   'description': 'The moves came a week after the department made its largest financial seizure ever, confiscating over $3.6 billion worth of Bitcoin stolen in a 2016 hacking.',\n",
       "   'url': 'https://www.nytimes.com/2022/02/17/us/politics/justice-department-cybersecurity.html',\n",
       "   'urlToImage': 'https://static01.nyt.com/images/2022/02/17/us/politics/17dc-justice/merlin_199612353_b05bfb07-3da8-404e-8a75-221181e5d014-facebookJumbo.jpg',\n",
       "   'publishedAt': '2022-02-17T23:51:49Z',\n",
       "   'content': 'Even in cyberspace, the Department of Justice is able to use a tried and true investigative technique, following the money, Ms. Monaco said. Its what led us to Al Capone in the 30s. It helped us dest… [+1176 chars]'},\n",
       "  {'source': {'id': None, 'name': 'Kitco NEWS'},\n",
       "   'author': 'http://www.facebook.com/kitconews',\n",
       "   'title': 'Is crypto winter over? Bitcoin price jumps toward $45k as safe-haven appeal returns to digital assets - Kitco NEWS',\n",
       "   'description': \"<ol><li>Is crypto winter over? Bitcoin price jumps toward $45k as safe-haven appeal returns to digital assets\\xa0\\xa0Kitco NEWS\\r\\n</li><li>Some big cryptocurrency exchanges won't bar Russians, raising fears of sanctions backdoor\\xa0\\xa0The Globe and Mail\\r\\n</li><li>Bitcoin…\",\n",
       "   'url': 'https://www.kitco.com/news/2022-03-01/Is-crypto-winter-over-Bitcoin-price-moves-toward-45k-as-safe-haven-appeal-returns-to-digital-assets.html',\n",
       "   'urlToImage': 'https://www.kitco.com/news/2022-03-01/images/shutterstock_1012491031-min.jpg',\n",
       "   'publishedAt': '2022-03-01T22:03:00Z',\n",
       "   'content': '(Kitco News) The escalating Russia-Ukraine crisis, new sanctions, and surging oil prices have investors fleeing risk-on assets. And the crypto space is getting its safe-haven appeal back as more peop… [+3790 chars]'},\n",
       "  {'source': {'id': None, 'name': 'Entrepreneur'},\n",
       "   'author': 'Chloe Arrojado',\n",
       "   'title': \"Market Uncertainty Causes Metal Prices to Spike, Raises Questions Over Cryptocurrency's Worth\",\n",
       "   'description': 'Gold is hitting prices unseen since August 2020.',\n",
       "   'url': 'https://www.entrepreneur.com/article/421579',\n",
       "   'urlToImage': 'https://assets.entrepreneur.com/content/3x2/2000/1646672522-GettyImages-1294638972.jpg',\n",
       "   'publishedAt': '2022-03-07T17:02:55Z',\n",
       "   'content': 'The uncertainty of the market has put gold on track to hit $2,000 per ounce on Monday, reaching levels unseen since August 2020. Palladium, another metal considered\\xa0a hedge for inflation, reached an … [+1664 chars]'},\n",
       "  {'source': {'id': None, 'name': 'VentureBeat'},\n",
       "   'author': 'Sadie Williamson',\n",
       "   'title': 'Ukraine adds $DOT donation acceptance as financial support swells',\n",
       "   'description': 'Other than the cryptocurrencies accepted by the Ukrainian government, NGOs and individual activists are also accepting crypto donations.',\n",
       "   'url': 'https://venturebeat.com/2022/03/01/ukraine-adds-dot-donation-acceptance-as-financial-support-swells/',\n",
       "   'urlToImage': 'https://venturebeat.com/wp-content/uploads/2022/03/GettyImages-642031386.jpg?w=1200&strip=all',\n",
       "   'publishedAt': '2022-03-01T21:10:00Z',\n",
       "   'content': \"Join today's leading executives online at the Data Summit on March 9th. Register here.\\r\\nThis article is contributed by Sadie Williamson, founder of Williamson Fintech Consulting.\\r\\nAmid the increasing… [+3425 chars]\"},\n",
       "  {'source': {'id': None, 'name': 'The Guardian'},\n",
       "   'author': 'Dan Milmo Global technology editor',\n",
       "   'title': 'Ukraine to issue non-fungible tokens to fund armed forces',\n",
       "   'description': 'Announcement by vice-prime minister follows appeal for cryptocurrency donations that has raised £38mUkraine has announced it will issue non-fungible tokens to fund its armed forces, as cryptocurrency becomes an increasingly popular means of giving support to …',\n",
       "   'url': 'https://amp.theguardian.com/world/2022/mar/03/ukraine-to-issue-non-fungible-tokens-to-fund-armed-forces',\n",
       "   'urlToImage': 'https://i.guim.co.uk/img/media/7e1a1574d05d7b46e85790ba46c49919a80e82c4/0_0_3634_2181/master/3634.jpg?width=1200&height=630&quality=85&auto=format&fit=crop&overlay-align=bottom%2Cleft&overlay-width=100p&overlay-base64=L2ltZy9zdGF0aWMvb3ZlcmxheXMvdGctZGVmYXVsdC5wbmc&enable=upscale&s=1424af8c3c30cfd7e1bb4c4e34f47629',\n",
       "   'publishedAt': '2022-03-03T19:38:32Z',\n",
       "   'content': 'Ukraine has announced it will issue non-fungible tokens to fund its armed forces, as cryptocurrency becomes an increasingly popular means of giving support to the government in Kyiv.\\r\\nMykhailo Fedoro… [+3251 chars]'},\n",
       "  {'source': {'id': None, 'name': 'New York Times'},\n",
       "   'author': 'Zach Montague',\n",
       "   'title': 'Ilya Lichtenstein Held in Bitcoin Case While Heather Morgan Is Given Bail',\n",
       "   'description': 'A judge appeared more concerned by the flight risk posed by Ilya Lichtenstein than by his wife, Heather Morgan, in a case accusing them of a sweeping scheme to launder stolen cryptocurrency.',\n",
       "   'url': 'https://www.nytimes.com/2022/02/14/us/politics/ilya-lichtenstein-heather-morgan-bitcoin-bail.html',\n",
       "   'urlToImage': 'https://static01.nyt.com/images/2022/02/13/nyregion/14dc-cryptocoupl-top/merlin_201888621_42784d8c-2f00-4d2d-9e60-5bb142c1c44f-facebookJumbo.jpg',\n",
       "   'publishedAt': '2022-02-15T02:45:31Z',\n",
       "   'content': 'The confiscation of the Bitcoin that remained in Mr. Lichtensteins wallet on Feb. 1, worth roughly $3.6 billion at the time, was the Justice Departments largest financial seizure ever, officials have… [+1442 chars]'},\n",
       "  {'source': {'id': None, 'name': 'Slashdot.org'},\n",
       "   'author': 'EditorDavid',\n",
       "   'title': \"Why Isn't Bitcoin Booming?\",\n",
       "   'description': '\"Bitcoin was seen by many of its libertarian-leaning fans as a kind of doomsday insurance,\" argues a columnist in the New York Times, \"a form of \\'digital gold\\' that would be a source of stability as the world grew more chaotic and unpredictable.... \\n\\n\"But Bit…',\n",
       "   'url': 'https://news.slashdot.org/story/22/03/12/0541251/why-isnt-bitcoin-booming',\n",
       "   'urlToImage': 'https://a.fsdn.com/sd/topics/bitcoin_64.png',\n",
       "   'publishedAt': '2022-03-12T18:34:00Z',\n",
       "   'content': '\"Bitcoin was seen by many of its libertarian-leaning fans as a kind of doomsday insurance,\" argues a columnist in the New York Times, \"a form of \\'digital gold\\' that would be a source of stability as … [+3914 chars]'},\n",
       "  {'source': {'id': 'reuters', 'name': 'Reuters'},\n",
       "   'author': None,\n",
       "   'title': \"CRYPTOVERSE-Bitcoin could be laid low by miners' malady - Reuters\",\n",
       "   'description': \"Bitcoin miners are feeling the heat - and the pain's rippling downstream to pressure prices.\",\n",
       "   'url': 'https://www.reuters.com/markets/europe/cryptoverse-bitcoin-could-be-laid-low-by-miners-malady-2022-02-22/',\n",
       "   'urlToImage': 'https://www.reuters.com/resizer/9nBpgfg7pSfpPQXnDcfMde9l3v0=/1200x628/smart/filters:quality(80)/cloudfront-us-east-2.images.arcpublishing.com/reuters/OXI44UUFUBOOBJGVTYCNM4IIBI.jpg',\n",
       "   'publishedAt': '2022-02-22T06:17:00Z',\n",
       "   'content': \"Feb 22 (Reuters) - Bitcoin miners are feeling the heat - and the pain's rippling downstream to pressure prices.\\r\\nThe cryptocurrency's spectacular rally in 2021 drew thousands of entrants into mining,… [+4196 chars]\"},\n",
       "  {'source': {'id': 'reuters', 'name': 'Reuters'},\n",
       "   'author': None,\n",
       "   'title': 'Cryptoverse: Bitcoin gains conflict currency credentials - Reuters',\n",
       "   'description': \"Bitcoin has leapt since Russia's invasion of Ukraine, bolstered by people in those countries looking to store and move money in anonymous and decentralised crypto.\",\n",
       "   'url': 'https://www.reuters.com/markets/europe/cryptoverse-bitcoin-gains-conflict-currency-credentials-2022-03-01/',\n",
       "   'urlToImage': 'https://www.reuters.com/pf/resources/images/reuters/reuters-default.png?d=75',\n",
       "   'publishedAt': '2022-03-01T06:10:00Z',\n",
       "   'content': \"March 1 (Reuters) - Bitcoin has leapt since Russia's invasion of Ukraine, bolstered by people in those countries looking to store and move money in anonymous and decentralised crypto.\\r\\nBitcoin tradin… [+3955 chars]\"},\n",
       "  {'source': {'id': None, 'name': 'Entrepreneur'},\n",
       "   'author': 'Entrepreneur Store',\n",
       "   'title': 'Learn More About Crypto, NFTs, and the Metaverse',\n",
       "   'description': 'Confused about the blockchain? We can help.',\n",
       "   'url': 'https://www.entrepreneur.com/article/421938',\n",
       "   'urlToImage': 'https://assets.entrepreneur.com/content/3x2/2000/1646926272-Ent-BeginnersguidetotradingNFTs.jpeg',\n",
       "   'publishedAt': '2022-03-13T19:30:00Z',\n",
       "   'content': \"The blockchain has revolutionized everything from finance and logistics to cybercrime and maybe even, one day, government. But to the average consumer, it's simply an investment opportunity. One that… [+1820 chars]\"},\n",
       "  {'source': {'id': 'wired', 'name': 'Wired'},\n",
       "   'author': 'Gian M. Volpicelli',\n",
       "   'title': 'War Is Calling Crypto’s ‘Neutrality’ Into Question',\n",
       "   'description': 'War in Ukraine and Western sanctions against Russia have made cryptocurrency a hot potato for international politics.',\n",
       "   'url': 'https://www.wired.com/story/crypto-russia-ukraine-sanctions/',\n",
       "   'urlToImage': 'https://media.wired.com/photos/6226a83bd53a49d05c483fa6/191:100/w_1280,c_limit/business-crypto-war-1130490519.jpg',\n",
       "   'publishedAt': '2022-03-08T12:00:00Z',\n",
       "   'content': 'Whose side is cryptocurrency on? If you had asked Satoshi Nakamoto, the pseudonymous person (or persons) who created the Bitcoin platform in 2008, he/they likely would have rejected the question. The… [+3643 chars]'},\n",
       "  {'source': {'id': None, 'name': 'CNET'},\n",
       "   'author': 'Julian Dossett',\n",
       "   'title': 'Cryptocurrency Donations Pour Into Ukraine. This Week in Bitcoin and Crypto News - CNET',\n",
       "   'description': 'Nonfungible Tidbits: All the bitcoin, cryptocurrency and NFT news for the week ending March 6.',\n",
       "   'url': 'https://www.cnet.com/personal-finance/crypto/cryptocurrency-donations-pour-into-ukraine-this-week-in-bitcoin-and-crypto-news/',\n",
       "   'urlToImage': 'https://www.cnet.com/a/img/ZqMWuhVOxJ8FqLi8Vs9ihQDJzPc=/1200x630/2022/03/04/c8f8f15b-e257-4dfd-9f64-a53be254530b/gettyimages-1320502852.jpg',\n",
       "   'publishedAt': '2022-03-05T14:45:07Z',\n",
       "   'content': \"Getty\\r\\nWelcome to Nonfungible Tidbits. Our focus this week: Russia's war in Ukraine.\\xa0\\r\\nIn addition to uprooting the lives of Ukrainians and throwing the international order into chaos, the Russian in… [+3275 chars]\"},\n",
       "  {'source': {'id': 'the-verge', 'name': 'The Verge'},\n",
       "   'author': 'Richard Lawler',\n",
       "   'title': 'Influencers beware: promoting the wrong crypto could mean facing a class-action lawsuit',\n",
       "   'description': 'An appeals court ruled that promoting unregistered securities on YouTube is the same as doing it in a targeted letter. Now a lawsuit against promoters of the BitConnect crypto Ponzi scheme will continue.',\n",
       "   'url': 'https://www.theverge.com/2022/2/18/22941470/bitconnect-ponzi-bitcoin-securities-act-sec-lawsuit-influencers-youtube-tiktok',\n",
       "   'urlToImage': 'https://cdn.vox-cdn.com/thumbor/o7yEw5nolnK4VnPNtYLR7DyPl3o=/0x215:3000x1786/fit-in/1200x630/cdn.vox-cdn.com/uploads/chorus_asset/file/8937277/acastro_170726_1777_0007_v4.jpg',\n",
       "   'publishedAt': '2022-02-19T03:15:20Z',\n",
       "   'content': 'An appeals court decided shilling for an unregistered security on YouTube is the same thing as doing it in a letter.\\r\\nIllustration by Alex Castro / The Verge\\r\\nThe story of BitConnect doesnt include a… [+3046 chars]'},\n",
       "  {'source': {'id': None, 'name': 'CNET'},\n",
       "   'author': 'Daniel Van Boom',\n",
       "   'title': \"Bitcoin and Ether Are Helping Fund Ukraine's Resistance - CNET\",\n",
       "   'description': 'Nearly $20 million has been raised in cryptocurrencies like bitcoin and ether since Russian forces invaded Ukraine last week.',\n",
       "   'url': 'https://www.cnet.com/personal-finance/crypto/bitcoin-and-ether-are-helping-fund-ukraines-resistance/',\n",
       "   'urlToImage': 'https://www.cnet.com/a/img/BH4MgY2j-pnCGoz05WyRZ0BIJkw=/1200x630/2022/02/28/042f54db-c4aa-4894-a501-e01666835ed9/gettyimages-1234061349.jpg',\n",
       "   'publishedAt': '2022-02-28T12:45:00Z',\n",
       "   'content': 'Nurphoto/Getty\\r\\nAs Russia launched an invasion into his home country last Thursday, Ukranian photographer Vitaliy Raskalov found himself a world away in Mexico City. When I spoke with him over Telegr… [+7815 chars]'},\n",
       "  {'source': {'id': 'reuters', 'name': 'Reuters'},\n",
       "   'author': None,\n",
       "   'title': 'CRYPTOVERSE-Bitcoin runs into Russian rules and regiments - Reuters',\n",
       "   'description': 'Bristling tensions and looming laws in Europe could offer clues to two questions: Can bitcoin be a safe-haven asset? And can Russia emerge as a crypto superpower?',\n",
       "   'url': 'https://www.reuters.com/markets/europe/cryptoverse-bitcoin-runs-into-russian-rules-regiments-2022-02-15/',\n",
       "   'urlToImage': 'https://www.reuters.com/resizer/o-neidYH62soGCDm3MOwoSkkRqc=/1200x628/smart/filters:quality(80)/cloudfront-us-east-2.images.arcpublishing.com/reuters/AOEOU7DFBRN5ZA32VLFEUPFGKY.jpg',\n",
       "   'publishedAt': '2022-02-15T06:00:00Z',\n",
       "   'content': 'Feb 15 (Reuters) - Bristling tensions and looming laws in Europe could offer clues to two questions: Can bitcoin be a safe-haven asset? And can Russia emerge as a crypto superpower?\\r\\nThe answer to th… [+4123 chars]'},\n",
       "  {'source': {'id': 'reuters', 'name': 'Reuters'},\n",
       "   'author': None,\n",
       "   'title': 'LIVE MARKETS Bitcoin, not exactly a safe haven today - Reuters',\n",
       "   'description': 'Welcome to the home for real-time coverage of markets brought to you by Reuters reporters. You can share your thoughts with us at <a href=\"mailto:markets.research@thomsonreuters.com\" target=\"_blank\">markets.research@thomsonreuters.com</a>',\n",
       "   'url': 'https://www.reuters.com/markets/stocks/live-markets-bitcoin-not-exactly-safe-haven-today-2022-02-24/',\n",
       "   'urlToImage': 'https://www.reuters.com/pf/resources/images/reuters/reuters-default.png?d=75',\n",
       "   'publishedAt': '2022-02-24T11:13:00Z',\n",
       "   'content': 'Feb 24 - Welcome to the home for real-time coverage of markets brought to you by Reuters reporters. You can share your thoughts with us at markets.research@thomsonreuters.com\\r\\nBITCOIN, NOT EXACTLY A … [+6882 chars]'},\n",
       "  {'source': {'id': None, 'name': 'MarketBeat'},\n",
       "   'author': 'Thomas Hughes',\n",
       "   'title': 'Russian Sanctions Roil Markets, Gold Rises',\n",
       "   'description': 'What the Russian sanctions will ultimately mean for the global economy will take time to unravel but one thing is clear. Russia may be a small economy but it is...',\n",
       "   'url': 'https://www.marketbeat.com/originals/russian-sanctions-roil-markets-gold-rises/?utm_source=entrepreneurcom&amp;amp;utm_medium=entrepreneurcom',\n",
       "   'urlToImage': 'https://assets.entrepreneur.com/providers/marketbeat/hero-image-marketbeat-420964.jpeg',\n",
       "   'publishedAt': '2022-02-28T17:00:00Z',\n",
       "   'content': 'Russia Cut Off From Global Economy, Dollar Steadies\\xa0\\r\\nWorld leaders have moved to cut Russia off from the global economy and monetary system due to the incursion into Ukraine. The moves include an ev… [+3130 chars]'}]}"
      ]
     },
     "execution_count": 12,
     "metadata": {},
     "output_type": "execute_result"
    }
   ],
   "source": [
    "# Fetch the Bitcoin news articles\n",
    "btc_articles_dto = newsapi.get_everything(\n",
    "    q=\"Bitcoin OR BTC\", \n",
    "    language=\"en\", \n",
    "    sort_by=\"relevancy\")\n",
    "btc_articles_dto"
   ]
  },
  {
   "cell_type": "code",
   "execution_count": 13,
   "metadata": {},
   "outputs": [
    {
     "data": {
      "text/plain": [
       "{'status': 'ok',\n",
       " 'totalResults': 4149,\n",
       " 'articles': [{'source': {'id': None, 'name': 'Investorplace.com'},\n",
       "   'author': 'InvestorPlace',\n",
       "   'title': 'The Market Has Spoken, and It Says Ethereum Is Valuable',\n",
       "   'description': 'Technical analysis isn’t a perfect tool, but it may point the way for Ethereum Ethereum\\xa0(ETH-USD) continues to be a volatile crypto investment. Crypto is volatile by nature — I’m not setting it apart from the asset class. It\\xa0 has clear catalysts as well as mu…',\n",
       "   'url': 'https://investorplace.com/2022/02/the-market-has-spoken-and-it-says-ethereum-matters/',\n",
       "   'urlToImage': 'https://images.readwrite.com/wp-content/uploads/2021/12/The-Role-of-Crypto-in-The-Fintech-Industry-and-The-Wider-Economy.jpg',\n",
       "   'publishedAt': '2022-02-17T17:10:12Z',\n",
       "   'content': 'Technical analysis isnt a perfect tool, but it may point the way for Ethereum\\r\\nEthereum\\xa0(ETH-USD\\r\\n) continues to be a volatile crypto investment. Crypto is volatile by nature Im not setting it apart … [+3612 chars]'},\n",
       "  {'source': {'id': 'the-verge', 'name': 'The Verge'},\n",
       "   'author': 'Elizabeth Lopatto',\n",
       "   'title': 'How Ukrainians are fundraising in cryptocurrency',\n",
       "   'description': 'Millions of dollars of cryptocurrency have flowed into Ukraine after it was attacked by Russia. Crypto was already popular — and proponents say it gets donations to those in need faster.',\n",
       "   'url': 'https://www.theverge.com/2022/2/26/22952357/ukraine-bitcoin-ethereum-donation-vitalik-buterin',\n",
       "   'urlToImage': 'https://cdn.vox-cdn.com/thumbor/teEVxppIZ_JTW-LSIR-MzRcovdk=/0x146:2040x1214/fit-in/1200x630/cdn.vox-cdn.com/uploads/chorus_asset/file/10418913/jbareham_180313_1777_bitcoin_cryptocurrency_0002.jpg',\n",
       "   'publishedAt': '2022-02-26T20:29:04Z',\n",
       "   'content': 'Illustration by James Bareham / The Verge\\r\\n\\n \\n\\n\\n More than $15 million has been donated so far More than $15 million in cryptocurrency has been donated to Ukrainian groups since Russia attacked the c… [+7442 chars]'},\n",
       "  {'source': {'id': 'reuters', 'name': 'Reuters'},\n",
       "   'author': None,\n",
       "   'title': 'ConsenSys valuation more than doubles to over $7 bln after latest funding - Reuters.com',\n",
       "   'description': 'Blockchain technology firm ConsenSys said on Tuesday its valuation had more than doubled to over $7 billion after its latest funding round that included investments from SoftBank Vision Fund 2 <a href=\"https://www.reuters.com/companies/9984.T\" target=\"_blank\"…',\n",
       "   'url': 'https://www.reuters.com/technology/consensys-valuation-more-than-doubles-over-7-bln-after-latest-funding-2022-03-15/',\n",
       "   'urlToImage': 'https://www.reuters.com/pf/resources/images/reuters/reuters-default.png?d=79',\n",
       "   'publishedAt': '2022-03-15T15:20:00Z',\n",
       "   'content': 'March 15 (Reuters) - Blockchain technology firm ConsenSys said on Tuesday its valuation had more than doubled to over $7 billion after its latest funding round that included investments from SoftBank… [+1748 chars]'},\n",
       "  {'source': {'id': 'business-insider', 'name': 'Business Insider'},\n",
       "   'author': 'prosen@insider.com (Phil Rosen)',\n",
       "   'title': \"Bored Ape creator's purchase of CryptoPunks means it now owns the two of the top-selling NFT projects\",\n",
       "   'description': 'Yuga Labs, the creators behind Bored Ape Yacht Club, has acquired CryptoPunks and Meebits from Larva Labs.',\n",
       "   'url': 'https://markets.businessinsider.com/news/currencies/bored-ape-yacht-club-nft-cryptopunks-meebits-opensea-larvalabs-yugolabs-2022-3',\n",
       "   'urlToImage': 'https://i.insider.com/622f3dd2843ef30018e6ddab?width=1200&format=jpeg',\n",
       "   'publishedAt': '2022-03-14T13:31:54Z',\n",
       "   'content': 'Bored Ape Yacht club creator Yugo Labs has bought CryptoPunks and Meebits from Larva Labs, giving the company control over three of the most popular non-fungible token collections on the market.\\xa0\\r\\nTh… [+1217 chars]'},\n",
       "  {'source': {'id': 'the-next-web', 'name': 'The Next Web'},\n",
       "   'author': 'Ivan Mehta',\n",
       "   'title': 'Twitter’s accepting tips in Ethereum — and Dorsey must be fuming',\n",
       "   'description': 'Last night, Twitter announced it’ll allow users to tip accounts via Ethereum. This is the social network’s second crypto announcement in two months, after it enabled NFT-based profile pictures in January. These developments have come after Jack Dorsey stepped…',\n",
       "   'url': 'https://thenextweb.com/news/twitters-tips-eth-dorsey-bitcoin-analysis',\n",
       "   'urlToImage': 'https://img-cdn.tnwcdn.com/image/hardfork?filter_last=1&fit=1280%2C640&url=https%3A%2F%2Fcdn0.tnwcdn.com%2Fwp-content%2Fblogs.dir%2F1%2Ffiles%2F2022%2F02%2FJack-dorsey-btc-twitter.jpg&signature=d52e37625051dfb6ee88dfdb117c8cb1',\n",
       "   'publishedAt': '2022-02-17T13:43:26Z',\n",
       "   'content': 'Last night, Twitter announced itll allow users to tip accounts via Ethereum.\\r\\nThis is the social networks second crypto announcement in two months, after it enabled NFT-based profile pictures in Janu… [+5114 chars]'},\n",
       "  {'source': {'id': 'wired', 'name': 'Wired'},\n",
       "   'author': 'Shanti Escalante-De Mattei',\n",
       "   'title': 'Web3 Threatens to Segregate Our Online Lives',\n",
       "   'description': 'Governance tokens seem like a tantalizing solution to content moderation struggles. They only give the appearance of democracy.',\n",
       "   'url': 'https://www.wired.com/story/web3-governance-tokens-cryptocurrency-content-moderation/',\n",
       "   'urlToImage': 'https://media.wired.com/photos/621d66c7ea3b8f283853aa29/191:100/w_1280,c_limit/Web3-Threatens-to-Segregate-Our-Online-Lives.jpg',\n",
       "   'publishedAt': '2022-03-01T14:00:00Z',\n",
       "   'content': 'In February, shit hit the fan in the usual way: An old tweet resurfaced. Brantly Millegan, director of operations at Ethereum Name Service (ENS), a web3 business, had written the following in May 201… [+3096 chars]'},\n",
       "  {'source': {'id': 'engadget', 'name': 'Engadget'},\n",
       "   'author': 'Mat Smith',\n",
       "   'title': 'The Morning After: This is the PlayStation VR2 headset',\n",
       "   'description': 'Like the PlayStation 5 before it, Sony has eked out specifications and teasers for its next-generation virtual reality hardware. We saw the controllers a while back (which have now been further refined, and color-swapped to white), but finally the headset its…',\n",
       "   'url': 'https://www.engadget.com/the-morning-after-this-is-the-play-station-vr-2-headset-121634753.html',\n",
       "   'urlToImage': 'https://s.yimg.com/os/creatr-uploaded-images/2022-02/89e58530-93ef-11ec-bd7f-e2bb069e5b36',\n",
       "   'publishedAt': '2022-02-23T12:16:34Z',\n",
       "   'content': 'Like the PlayStation 5 before it, Sony has eked out specifications and teasers for its next-generation virtual reality hardware. We saw the controllers a while back (which have now been further refin… [+4177 chars]'},\n",
       "  {'source': {'id': None, 'name': 'VentureBeat'},\n",
       "   'author': 'Sadie Williamson',\n",
       "   'title': 'Ukraine adds $DOT donation acceptance as financial support swells',\n",
       "   'description': 'Other than the cryptocurrencies accepted by the Ukrainian government, NGOs and individual activists are also accepting crypto donations.',\n",
       "   'url': 'https://venturebeat.com/2022/03/01/ukraine-adds-dot-donation-acceptance-as-financial-support-swells/',\n",
       "   'urlToImage': 'https://venturebeat.com/wp-content/uploads/2022/03/GettyImages-642031386.jpg?w=1200&strip=all',\n",
       "   'publishedAt': '2022-03-01T21:10:00Z',\n",
       "   'content': \"Join today's leading executives online at the Data Summit on March 9th. Register here.\\r\\nThis article is contributed by Sadie Williamson, founder of Williamson Fintech Consulting.\\r\\nAmid the increasing… [+3425 chars]\"},\n",
       "  {'source': {'id': None, 'name': 'The Guardian'},\n",
       "   'author': 'Dan Milmo Global technology editor',\n",
       "   'title': 'Ukraine to issue non-fungible tokens to fund armed forces',\n",
       "   'description': 'Announcement by vice-prime minister follows appeal for cryptocurrency donations that has raised £38mUkraine has announced it will issue non-fungible tokens to fund its armed forces, as cryptocurrency becomes an increasingly popular means of giving support to …',\n",
       "   'url': 'https://amp.theguardian.com/world/2022/mar/03/ukraine-to-issue-non-fungible-tokens-to-fund-armed-forces',\n",
       "   'urlToImage': 'https://i.guim.co.uk/img/media/7e1a1574d05d7b46e85790ba46c49919a80e82c4/0_0_3634_2181/master/3634.jpg?width=1200&height=630&quality=85&auto=format&fit=crop&overlay-align=bottom%2Cleft&overlay-width=100p&overlay-base64=L2ltZy9zdGF0aWMvb3ZlcmxheXMvdGctZGVmYXVsdC5wbmc&enable=upscale&s=1424af8c3c30cfd7e1bb4c4e34f47629',\n",
       "   'publishedAt': '2022-03-03T19:38:32Z',\n",
       "   'content': 'Ukraine has announced it will issue non-fungible tokens to fund its armed forces, as cryptocurrency becomes an increasingly popular means of giving support to the government in Kyiv.\\r\\nMykhailo Fedoro… [+3251 chars]'},\n",
       "  {'source': {'id': None, 'name': 'Boing Boing'},\n",
       "   'author': 'Carla Sinclair',\n",
       "   'title': 'Ukraine is asking for dogecoin donations, preferring the joke coin over less valuable rubles',\n",
       "   'description': 'Dogecoin is now worth more than rubles, according to Ukraine\\'s Vice Prime Minister Mykhailo Fedorov, who announced today that Ukraine is accepting donations of the memecoin to help fight against Russia.\\n\\n\\n\\n\"Now even meme can support our army and save lives fr…',\n",
       "   'url': 'https://boingboing.net/2022/03/02/ukraine-is-asking-for-dogecoin-donations-preferring-the-joke-coin-over-less-valuable-rubles.html',\n",
       "   'urlToImage': 'https://i0.wp.com/boingboing.net/wp-content/uploads/2022/03/dogecoin.jpg?fit=1200%2C960&ssl=1',\n",
       "   'publishedAt': '2022-03-02T18:00:35Z',\n",
       "   'content': \"Dogecoin is now worth more than rubles, according to Ukraine's Vice Prime Minister Mykhailo Fedorov, who announced today that Ukraine is accepting donations of the memecoin to help fight against Russ… [+1979 chars]\"},\n",
       "  {'source': {'id': 'business-insider', 'name': 'Business Insider'},\n",
       "   'author': 'insider@insider.com (Adam Morgan McCarthy)',\n",
       "   'title': \"Colorado will accept crypto for payment of state taxes by the summer, with drivers' and hunting licenses to follow, Gov. Polis says\",\n",
       "   'description': \"But the state of Colorado won't hold ethereum or bitcoin, as it isn't permitted to do so, Gov. Jared Polis told CNBC.\",\n",
       "   'url': 'https://markets.businessinsider.com/news/currencies/colorado-crypto-tax-payments-polis-state-bitcoin-governor-us-cryptocurrency-2022-2',\n",
       "   'urlToImage': 'https://i.insider.com/620d0171da5ac00018fe85d9?width=1200&format=jpeg',\n",
       "   'publishedAt': '2022-02-16T15:36:57Z',\n",
       "   'content': \"People in Colorado will be able to pay their state taxes in cryptocurrency by the middle of this year, the US state's governor has revealed.\\r\\nGov. Jared Polis laid out the timing of the move, a longt… [+2206 chars]\"},\n",
       "  {'source': {'id': 'business-insider', 'name': 'Business Insider'},\n",
       "   'author': 'prosen@insider.com (Phil Rosen)',\n",
       "   'title': 'Coinbase earnings show trading of ethereum and altcoins surged in 2021 as bitcoin volume cooled',\n",
       "   'description': \"Ethereum trading volume increased from 15% to 21% of Coinbase's total, and altcoins increased from 44% to 55%. Bitcoin dropped from 41% to 24%.\",\n",
       "   'url': 'https://markets.businessinsider.com/news/currencies/coinbase-earnings-q4-2021-ethereum-altcoins-top-bitcoin-crypto-trading-2022-2',\n",
       "   'urlToImage': 'https://i.insider.com/62190267d0009b001904bd96?width=1200&format=jpeg',\n",
       "   'publishedAt': '2022-02-25T17:02:30Z',\n",
       "   'content': \"Coinbase reported that the share of trading volume for ethereum and other altcoins increased last year, while bitcoin's share dropped dramatically.\\xa0\\r\\nBetween 2020 and 2021, ethereum trading volume in… [+1187 chars]\"},\n",
       "  {'source': {'id': None, 'name': 'MarketWatch'},\n",
       "   'author': 'Weston Blasi',\n",
       "   'title': 'Crypto: You can tip with ether on Twitter now',\n",
       "   'description': \"Twitter adds Ethereum support to its virtual 'tipping' feature months after including bitcoin\",\n",
       "   'url': 'https://www.marketwatch.com/story/you-can-tip-with-ether-on-twitter-now-11645045510',\n",
       "   'urlToImage': 'https://images.mktw.net/im-487500/social',\n",
       "   'publishedAt': '2022-02-16T21:05:00Z',\n",
       "   'content': 'Twitter \\r\\n TWTR,\\r\\n -2.03%\\r\\nis expanding its mobile tipping feature to include Ethereum \\r\\n ETHUSD,\\r\\n +1.92%\\r\\nsupport, the company announced on Wednesday.\\r\\nTwitters Tips service lets users to send paym… [+1151 chars]'},\n",
       "  {'source': {'id': None, 'name': 'The Guardian'},\n",
       "   'author': 'Alex Kruger',\n",
       "   'title': 'It happened to me: I accidentally attended a crypto bro dinner',\n",
       "   'description': 'At a Miami event, I found myself surrounded by a cult obsessed with minting bananas and trading Eth. Does it all mean anything?Two weeks ago, I walked into an upscale restaurant for a networking dinner. I was brand new to Miami, a city whose residents pride t…',\n",
       "   'url': 'https://amp.theguardian.com/lifeandstyle/2022/mar/15/cryptocurrency-coinbase-fintech-bros',\n",
       "   'urlToImage': 'https://i.guim.co.uk/img/media/fc61fdae2fc25958745c1d3cd11a48e8f48ae176/0_506_900_540/master/900.jpg?width=1200&height=630&quality=85&auto=format&fit=crop&overlay-align=bottom%2Cleft&overlay-width=100p&overlay-base64=L2ltZy9zdGF0aWMvb3ZlcmxheXMvdGctZGVmYXVsdC5wbmc&enable=upscale&s=903a4d860e4bbec8e79037fc4e60912f',\n",
       "   'publishedAt': '2022-03-15T10:00:48Z',\n",
       "   'content': 'Two weeks ago, I walked into an upscale restaurant for a networking dinner. I was brand new to Miami, a city whose residents pride themselves on two-story strip clubs, too-orange spray tans, and rent… [+9976 chars]'},\n",
       "  {'source': {'id': 'wired', 'name': 'Wired'},\n",
       "   'author': 'Omar L. Gallaga',\n",
       "   'title': 'How People Actually Make Money From Cryptocurrencies',\n",
       "   'description': 'Power traders use “staking” and “yield farming” to generate passive income, but there are risks.',\n",
       "   'url': 'https://www.wired.com/story/how-to-make-money-from-crypto/',\n",
       "   'urlToImage': 'https://media.wired.com/photos/622bcc6ef48a924e02bd4f56/191:100/w_1280,c_limit/money-crypto-gear-6228-000847.jpg',\n",
       "   'publishedAt': '2022-03-13T13:00:00Z',\n",
       "   'content': 'If it sounds too good to be true, youre not wrong. Yield farming is riskier than staking. The tokens that are offering such high interest rates and fee yields are also the ones most likely to take a … [+2371 chars]'},\n",
       "  {'source': {'id': None, 'name': 'Entrepreneur'},\n",
       "   'author': 'Masha Prusso',\n",
       "   'title': \"What You Need to Know About Ethereum's Role in Web 3.0 and the Metaverse\",\n",
       "   'description': 'This now-seven-year-old decentralized and open-source blockchain has taken center stage in the growing metaverse.',\n",
       "   'url': 'https://www.entrepreneur.com/article/417850',\n",
       "   'urlToImage': 'https://assets.entrepreneur.com/content/3x2/2000/1646241209-GettyImages-1359249591.jpg',\n",
       "   'publishedAt': '2022-03-03T16:00:00Z',\n",
       "   'content': 'It seems that in 2022, you cant escape from the metaverse.\\xa0From Facebook to Microsoft, seemingly every centralized tech firm is clambering on the bandwagon of this emerging virtual reality. For puris… [+5412 chars]'},\n",
       "  {'source': {'id': None, 'name': 'Maxbit.cc'},\n",
       "   'author': None,\n",
       "   'title': 'MIT Chose Ethereum’s PoS as Top Technological Breakthrough',\n",
       "   'description': 'The Massachusetts Institute of Technology (MIT) published their 2022 technological breakthrough and included the Proof-of-Stake (PoS) consensus algorithm to',\n",
       "   'url': 'https://maxbit.cc/mit-chose-ethereums-pos-as-top-technological-breakthrough/',\n",
       "   'urlToImage': 'https://bitcoinist.com/wp-content/uploads/2021/11/ethereum.jpg',\n",
       "   'publishedAt': '2022-03-01T13:55:00Z',\n",
       "   'content': 'The Massachusetts Institute of Technology (MIT) published their 2022 technological breakthrough and included the Proof-of-Stake (PoS) consensus algorithm to be adopted by Ethereum. Posted via the MIT… [+3186 chars]'},\n",
       "  {'source': {'id': 'business-insider', 'name': 'Business Insider'},\n",
       "   'author': 'insider@insider.com (Ben Gilbert)',\n",
       "   'title': 'A viral YouTube takedown of NFTs has already clocked over 5 million views: Here are the biggest revelations',\n",
       "   'description': 'NFTs and cryptocurrency are a \"bigger fool scam,\" according to a rigorous new takedown video from Canadian YouTuber Dan Olson.',\n",
       "   'url': 'https://www.businessinsider.com/nft-takedown-documentary-youtube-cryptocurrency-scam-dan-olson-2022-2',\n",
       "   'urlToImage': 'https://i.insider.com/620eae85462ff20019c58cd9?width=1200&format=jpeg',\n",
       "   'publishedAt': '2022-02-18T13:00:00Z',\n",
       "   'content': 'At over two hours long, the wildly popular new YouTube documentary\\xa0 \"Line Goes Up The Problem With NFTs\" is an exhaustive takedown of the hot new investment vehicle that everyone from Waka Flacka Fla… [+2929 chars]'},\n",
       "  {'source': {'id': None, 'name': 'Digital Trends'},\n",
       "   'author': 'Zak Islam',\n",
       "   'title': 'This new mining tool could spell bad news for the GPU market',\n",
       "   'description': 'A new cryptocurrency-based tool has appeared to completely remove mining hash rate limits placed on certain Nvidia GeForce RTX video cards.',\n",
       "   'url': 'https://www.digitaltrends.com/computing/this-new-mining-tool-could-spell-bad-news-for-the-gpu-market/',\n",
       "   'urlToImage': 'https://icdn.digitaltrends.com/image/digitaltrends/cryptocurrency-mining-rig.jpg',\n",
       "   'publishedAt': '2022-02-22T18:51:52Z',\n",
       "   'content': 'Nvidia has previously attempted to limit its GeForce graphics cards’ ability to mine cryptocurrency amid a market where crypto enthusiasts have contributed to a worldwide GPU shortage. However, a new… [+3365 chars]'},\n",
       "  {'source': {'id': None, 'name': 'MakeUseOf'},\n",
       "   'author': 'Rahul Nambiampurath',\n",
       "   'title': 'What Is zkSync? Can It Help to Scale Ethereum?',\n",
       "   'description': \"Ethereum's gas fees are high and it's transactions can take a long time to process. zkSync could be the answer.\",\n",
       "   'url': 'https://www.makeuseof.com/what-is-zksync-can-it-help-scale-ethereum/',\n",
       "   'urlToImage': 'https://static1.makeuseofimages.com/wordpress/wp-content/uploads/2022/02/zk-sync.jpg',\n",
       "   'publishedAt': '2022-02-23T12:30:12Z',\n",
       "   'content': 'As Ethereum draws more people to its smart contract-powered DApps, from NFT marketplaces to lending and gaming, its network gets more congested. This manifests in low transaction speed and high trans… [+4963 chars]'}]}"
      ]
     },
     "execution_count": 13,
     "metadata": {},
     "output_type": "execute_result"
    }
   ],
   "source": [
    "# Fetch the Ethereum news articles\n",
    "eth_articles_dto = newsapi.get_everything(\n",
    "    q=\"Ethereum OR ETH\", \n",
    "    language=\"en\", \n",
    "    sort_by=\"relevancy\")\n",
    "eth_articles_dto"
   ]
  },
  {
   "cell_type": "code",
   "execution_count": 15,
   "metadata": {},
   "outputs": [
    {
     "data": {
      "text/html": [
       "<div>\n",
       "<style scoped>\n",
       "    .dataframe tbody tr th:only-of-type {\n",
       "        vertical-align: middle;\n",
       "    }\n",
       "\n",
       "    .dataframe tbody tr th {\n",
       "        vertical-align: top;\n",
       "    }\n",
       "\n",
       "    .dataframe thead th {\n",
       "        text-align: right;\n",
       "    }\n",
       "</style>\n",
       "<table border=\"1\" class=\"dataframe\">\n",
       "  <thead>\n",
       "    <tr style=\"text-align: right;\">\n",
       "      <th></th>\n",
       "      <th>source</th>\n",
       "      <th>author</th>\n",
       "      <th>title</th>\n",
       "      <th>description</th>\n",
       "      <th>url</th>\n",
       "      <th>urlToImage</th>\n",
       "      <th>publishedAt</th>\n",
       "      <th>content</th>\n",
       "    </tr>\n",
       "  </thead>\n",
       "  <tbody>\n",
       "    <tr>\n",
       "      <th>0</th>\n",
       "      <td>{'id': 'reuters', 'name': 'Reuters'}</td>\n",
       "      <td>None</td>\n",
       "      <td>Rouble-crypto trading soars as sanctions hit R...</td>\n",
       "      <td>Trading volumes between the Russian rouble and...</td>\n",
       "      <td>https://www.reuters.com/markets/europe/rouble-...</td>\n",
       "      <td>https://www.reuters.com/pf/resources/images/re...</td>\n",
       "      <td>2022-02-28T17:53:00Z</td>\n",
       "      <td>LONDON, Feb 28 (Reuters) - Trading volumes bet...</td>\n",
       "    </tr>\n",
       "    <tr>\n",
       "      <th>1</th>\n",
       "      <td>{'id': 'reuters', 'name': 'Reuters'}</td>\n",
       "      <td>None</td>\n",
       "      <td>Cryptocurrencies in a time of war - Reuters.com</td>\n",
       "      <td>Cryptocurrencies have been close to the headli...</td>\n",
       "      <td>https://www.reuters.com/technology/cryptocurre...</td>\n",
       "      <td>https://www.reuters.com/resizer/o-neidYH62soGC...</td>\n",
       "      <td>2022-03-04T15:01:00Z</td>\n",
       "      <td>LONDON, March 4 (Reuters) - Cryptocurrencies h...</td>\n",
       "    </tr>\n",
       "    <tr>\n",
       "      <th>2</th>\n",
       "      <td>{'id': 'the-verge', 'name': 'The Verge'}</td>\n",
       "      <td>Elizabeth Lopatto</td>\n",
       "      <td>How Ukrainians are fundraising in cryptocurrency</td>\n",
       "      <td>Millions of dollars of cryptocurrency have flo...</td>\n",
       "      <td>https://www.theverge.com/2022/2/26/22952357/uk...</td>\n",
       "      <td>https://cdn.vox-cdn.com/thumbor/teEVxppIZ_JTW-...</td>\n",
       "      <td>2022-02-26T20:29:04Z</td>\n",
       "      <td>Illustration by James Bareham / The Verge\\r\\n\\...</td>\n",
       "    </tr>\n",
       "    <tr>\n",
       "      <th>3</th>\n",
       "      <td>{'id': None, 'name': 'New York Times'}</td>\n",
       "      <td>Katie Benner</td>\n",
       "      <td>Justice Dept. Announces Raft of Changes Meant ...</td>\n",
       "      <td>The moves came a week after the department mad...</td>\n",
       "      <td>https://www.nytimes.com/2022/02/17/us/politics...</td>\n",
       "      <td>https://static01.nyt.com/images/2022/02/17/us/...</td>\n",
       "      <td>2022-02-17T23:51:49Z</td>\n",
       "      <td>Even in cyberspace, the Department of Justice ...</td>\n",
       "    </tr>\n",
       "    <tr>\n",
       "      <th>4</th>\n",
       "      <td>{'id': None, 'name': 'Kitco NEWS'}</td>\n",
       "      <td>http://www.facebook.com/kitconews</td>\n",
       "      <td>Is crypto winter over? Bitcoin price jumps tow...</td>\n",
       "      <td>&lt;ol&gt;&lt;li&gt;Is crypto winter over? Bitcoin price j...</td>\n",
       "      <td>https://www.kitco.com/news/2022-03-01/Is-crypt...</td>\n",
       "      <td>https://www.kitco.com/news/2022-03-01/images/s...</td>\n",
       "      <td>2022-03-01T22:03:00Z</td>\n",
       "      <td>(Kitco News) The escalating Russia-Ukraine cri...</td>\n",
       "    </tr>\n",
       "  </tbody>\n",
       "</table>\n",
       "</div>"
      ],
      "text/plain": [
       "                                     source  \\\n",
       "0      {'id': 'reuters', 'name': 'Reuters'}   \n",
       "1      {'id': 'reuters', 'name': 'Reuters'}   \n",
       "2  {'id': 'the-verge', 'name': 'The Verge'}   \n",
       "3    {'id': None, 'name': 'New York Times'}   \n",
       "4        {'id': None, 'name': 'Kitco NEWS'}   \n",
       "\n",
       "                              author  \\\n",
       "0                               None   \n",
       "1                               None   \n",
       "2                  Elizabeth Lopatto   \n",
       "3                       Katie Benner   \n",
       "4  http://www.facebook.com/kitconews   \n",
       "\n",
       "                                               title  \\\n",
       "0  Rouble-crypto trading soars as sanctions hit R...   \n",
       "1    Cryptocurrencies in a time of war - Reuters.com   \n",
       "2   How Ukrainians are fundraising in cryptocurrency   \n",
       "3  Justice Dept. Announces Raft of Changes Meant ...   \n",
       "4  Is crypto winter over? Bitcoin price jumps tow...   \n",
       "\n",
       "                                         description  \\\n",
       "0  Trading volumes between the Russian rouble and...   \n",
       "1  Cryptocurrencies have been close to the headli...   \n",
       "2  Millions of dollars of cryptocurrency have flo...   \n",
       "3  The moves came a week after the department mad...   \n",
       "4  <ol><li>Is crypto winter over? Bitcoin price j...   \n",
       "\n",
       "                                                 url  \\\n",
       "0  https://www.reuters.com/markets/europe/rouble-...   \n",
       "1  https://www.reuters.com/technology/cryptocurre...   \n",
       "2  https://www.theverge.com/2022/2/26/22952357/uk...   \n",
       "3  https://www.nytimes.com/2022/02/17/us/politics...   \n",
       "4  https://www.kitco.com/news/2022-03-01/Is-crypt...   \n",
       "\n",
       "                                          urlToImage           publishedAt  \\\n",
       "0  https://www.reuters.com/pf/resources/images/re...  2022-02-28T17:53:00Z   \n",
       "1  https://www.reuters.com/resizer/o-neidYH62soGC...  2022-03-04T15:01:00Z   \n",
       "2  https://cdn.vox-cdn.com/thumbor/teEVxppIZ_JTW-...  2022-02-26T20:29:04Z   \n",
       "3  https://static01.nyt.com/images/2022/02/17/us/...  2022-02-17T23:51:49Z   \n",
       "4  https://www.kitco.com/news/2022-03-01/images/s...  2022-03-01T22:03:00Z   \n",
       "\n",
       "                                             content  \n",
       "0  LONDON, Feb 28 (Reuters) - Trading volumes bet...  \n",
       "1  LONDON, March 4 (Reuters) - Cryptocurrencies h...  \n",
       "2  Illustration by James Bareham / The Verge\\r\\n\\...  \n",
       "3  Even in cyberspace, the Department of Justice ...  \n",
       "4  (Kitco News) The escalating Russia-Ukraine cri...  "
      ]
     },
     "execution_count": 15,
     "metadata": {},
     "output_type": "execute_result"
    }
   ],
   "source": [
    "# Create the Bitcoin sentiment scores DataFrame\n",
    "btc_df = pd.DataFrame.from_dict(btc_articles_dto[\"articles\"])\n",
    "btc_df.head()"
   ]
  },
  {
   "cell_type": "code",
   "execution_count": 16,
   "metadata": {},
   "outputs": [
    {
     "data": {
      "text/html": [
       "<div>\n",
       "<style scoped>\n",
       "    .dataframe tbody tr th:only-of-type {\n",
       "        vertical-align: middle;\n",
       "    }\n",
       "\n",
       "    .dataframe tbody tr th {\n",
       "        vertical-align: top;\n",
       "    }\n",
       "\n",
       "    .dataframe thead th {\n",
       "        text-align: right;\n",
       "    }\n",
       "</style>\n",
       "<table border=\"1\" class=\"dataframe\">\n",
       "  <thead>\n",
       "    <tr style=\"text-align: right;\">\n",
       "      <th></th>\n",
       "      <th>source</th>\n",
       "      <th>author</th>\n",
       "      <th>title</th>\n",
       "      <th>description</th>\n",
       "      <th>url</th>\n",
       "      <th>urlToImage</th>\n",
       "      <th>publishedAt</th>\n",
       "      <th>content</th>\n",
       "    </tr>\n",
       "  </thead>\n",
       "  <tbody>\n",
       "    <tr>\n",
       "      <th>0</th>\n",
       "      <td>{'id': None, 'name': 'Investorplace.com'}</td>\n",
       "      <td>InvestorPlace</td>\n",
       "      <td>The Market Has Spoken, and It Says Ethereum Is...</td>\n",
       "      <td>Technical analysis isn’t a perfect tool, but i...</td>\n",
       "      <td>https://investorplace.com/2022/02/the-market-h...</td>\n",
       "      <td>https://images.readwrite.com/wp-content/upload...</td>\n",
       "      <td>2022-02-17T17:10:12Z</td>\n",
       "      <td>Technical analysis isnt a perfect tool, but it...</td>\n",
       "    </tr>\n",
       "    <tr>\n",
       "      <th>1</th>\n",
       "      <td>{'id': 'the-verge', 'name': 'The Verge'}</td>\n",
       "      <td>Elizabeth Lopatto</td>\n",
       "      <td>How Ukrainians are fundraising in cryptocurrency</td>\n",
       "      <td>Millions of dollars of cryptocurrency have flo...</td>\n",
       "      <td>https://www.theverge.com/2022/2/26/22952357/uk...</td>\n",
       "      <td>https://cdn.vox-cdn.com/thumbor/teEVxppIZ_JTW-...</td>\n",
       "      <td>2022-02-26T20:29:04Z</td>\n",
       "      <td>Illustration by James Bareham / The Verge\\r\\n\\...</td>\n",
       "    </tr>\n",
       "    <tr>\n",
       "      <th>2</th>\n",
       "      <td>{'id': 'reuters', 'name': 'Reuters'}</td>\n",
       "      <td>None</td>\n",
       "      <td>ConsenSys valuation more than doubles to over ...</td>\n",
       "      <td>Blockchain technology firm ConsenSys said on T...</td>\n",
       "      <td>https://www.reuters.com/technology/consensys-v...</td>\n",
       "      <td>https://www.reuters.com/pf/resources/images/re...</td>\n",
       "      <td>2022-03-15T15:20:00Z</td>\n",
       "      <td>March 15 (Reuters) - Blockchain technology fir...</td>\n",
       "    </tr>\n",
       "    <tr>\n",
       "      <th>3</th>\n",
       "      <td>{'id': 'business-insider', 'name': 'Business I...</td>\n",
       "      <td>prosen@insider.com (Phil Rosen)</td>\n",
       "      <td>Bored Ape creator's purchase of CryptoPunks me...</td>\n",
       "      <td>Yuga Labs, the creators behind Bored Ape Yacht...</td>\n",
       "      <td>https://markets.businessinsider.com/news/curre...</td>\n",
       "      <td>https://i.insider.com/622f3dd2843ef30018e6ddab...</td>\n",
       "      <td>2022-03-14T13:31:54Z</td>\n",
       "      <td>Bored Ape Yacht club creator Yugo Labs has bou...</td>\n",
       "    </tr>\n",
       "    <tr>\n",
       "      <th>4</th>\n",
       "      <td>{'id': 'the-next-web', 'name': 'The Next Web'}</td>\n",
       "      <td>Ivan Mehta</td>\n",
       "      <td>Twitter’s accepting tips in Ethereum — and Dor...</td>\n",
       "      <td>Last night, Twitter announced it’ll allow user...</td>\n",
       "      <td>https://thenextweb.com/news/twitters-tips-eth-...</td>\n",
       "      <td>https://img-cdn.tnwcdn.com/image/hardfork?filt...</td>\n",
       "      <td>2022-02-17T13:43:26Z</td>\n",
       "      <td>Last night, Twitter announced itll allow users...</td>\n",
       "    </tr>\n",
       "  </tbody>\n",
       "</table>\n",
       "</div>"
      ],
      "text/plain": [
       "                                              source  \\\n",
       "0          {'id': None, 'name': 'Investorplace.com'}   \n",
       "1           {'id': 'the-verge', 'name': 'The Verge'}   \n",
       "2               {'id': 'reuters', 'name': 'Reuters'}   \n",
       "3  {'id': 'business-insider', 'name': 'Business I...   \n",
       "4     {'id': 'the-next-web', 'name': 'The Next Web'}   \n",
       "\n",
       "                            author  \\\n",
       "0                    InvestorPlace   \n",
       "1                Elizabeth Lopatto   \n",
       "2                             None   \n",
       "3  prosen@insider.com (Phil Rosen)   \n",
       "4                       Ivan Mehta   \n",
       "\n",
       "                                               title  \\\n",
       "0  The Market Has Spoken, and It Says Ethereum Is...   \n",
       "1   How Ukrainians are fundraising in cryptocurrency   \n",
       "2  ConsenSys valuation more than doubles to over ...   \n",
       "3  Bored Ape creator's purchase of CryptoPunks me...   \n",
       "4  Twitter’s accepting tips in Ethereum — and Dor...   \n",
       "\n",
       "                                         description  \\\n",
       "0  Technical analysis isn’t a perfect tool, but i...   \n",
       "1  Millions of dollars of cryptocurrency have flo...   \n",
       "2  Blockchain technology firm ConsenSys said on T...   \n",
       "3  Yuga Labs, the creators behind Bored Ape Yacht...   \n",
       "4  Last night, Twitter announced it’ll allow user...   \n",
       "\n",
       "                                                 url  \\\n",
       "0  https://investorplace.com/2022/02/the-market-h...   \n",
       "1  https://www.theverge.com/2022/2/26/22952357/uk...   \n",
       "2  https://www.reuters.com/technology/consensys-v...   \n",
       "3  https://markets.businessinsider.com/news/curre...   \n",
       "4  https://thenextweb.com/news/twitters-tips-eth-...   \n",
       "\n",
       "                                          urlToImage           publishedAt  \\\n",
       "0  https://images.readwrite.com/wp-content/upload...  2022-02-17T17:10:12Z   \n",
       "1  https://cdn.vox-cdn.com/thumbor/teEVxppIZ_JTW-...  2022-02-26T20:29:04Z   \n",
       "2  https://www.reuters.com/pf/resources/images/re...  2022-03-15T15:20:00Z   \n",
       "3  https://i.insider.com/622f3dd2843ef30018e6ddab...  2022-03-14T13:31:54Z   \n",
       "4  https://img-cdn.tnwcdn.com/image/hardfork?filt...  2022-02-17T13:43:26Z   \n",
       "\n",
       "                                             content  \n",
       "0  Technical analysis isnt a perfect tool, but it...  \n",
       "1  Illustration by James Bareham / The Verge\\r\\n\\...  \n",
       "2  March 15 (Reuters) - Blockchain technology fir...  \n",
       "3  Bored Ape Yacht club creator Yugo Labs has bou...  \n",
       "4  Last night, Twitter announced itll allow users...  "
      ]
     },
     "execution_count": 16,
     "metadata": {},
     "output_type": "execute_result"
    }
   ],
   "source": [
    "# Create the Ethereum sentiment scores DataFrame\n",
    "eth_df = pd.DataFrame.from_dict(eth_articles_dto[\"articles\"])\n",
    "eth_df.head()"
   ]
  },
  {
   "cell_type": "code",
   "execution_count": null,
   "metadata": {},
   "outputs": [],
   "source": [
    "# Pass in the \"raw\" articles DTO and retrieve a new DataFrame w/ sentiment details\n",
    "def createDataFrameWithSentiments(articles_dto):\n",
    "    sentiments = []\n",
    "\n",
    "    # Iterate through each article and create a new obj that contains the\n",
    "    # relevant article data (text & date) + sentiment data\n",
    "    for article in articles_dto[\"articles\"]:\n",
    "        try:\n",
    "            text = article[\"content\"]\n",
    "            date = article[\"publishedAt\"][:10]\n",
    "            sentiment = analyzer.polarity_scores(text)\n",
    "            compound = sentiment[\"compound\"]\n",
    "            pos = sentiment[\"pos\"]\n",
    "            neu = sentiment[\"neu\"]\n",
    "            neg = sentiment[\"neg\"]\n",
    "            \n",
    "            sentiments.append({\n",
    "                \"text\": text,\n",
    "                \"date\": date,\n",
    "                \"compound\": compound,\n",
    "                \"positive\": pos,\n",
    "                \"negative\": neg,\n",
    "                \"neutral\": neu\n",
    "                \n",
    "            })\n",
    "            \n",
    "        except AttributeError:\n",
    "            pass\n",
    "        \n",
    "    # Create DataFrame\n",
    "    df = pd.DataFrame(sentiments)\n",
    "\n",
    "    # Reorder DataFrame columns\n",
    "    cols = [\"date\", \"text\", \"compound\", \"positive\", \"negative\", \"neutral\"]\n",
    "    df = df[cols]\n",
    "\n",
    "    return df"
   ]
  },
  {
   "cell_type": "code",
   "execution_count": 8,
   "metadata": {},
   "outputs": [],
   "source": [
    "# Describe the Bitcoin Sentiment\n",
    "# YOUR CODE HERE!"
   ]
  },
  {
   "cell_type": "code",
   "execution_count": 9,
   "metadata": {},
   "outputs": [],
   "source": [
    "# Describe the Ethereum Sentiment\n",
    "# YOUR CODE HERE!"
   ]
  },
  {
   "cell_type": "markdown",
   "metadata": {},
   "source": [
    "### Questions:\n",
    "\n",
    "Q: Which coin had the highest mean positive score?\n",
    "\n",
    "A: \n",
    "\n",
    "Q: Which coin had the highest compound score?\n",
    "\n",
    "A: \n",
    "\n",
    "Q. Which coin had the highest positive score?\n",
    "\n",
    "A: "
   ]
  },
  {
   "cell_type": "markdown",
   "metadata": {},
   "source": [
    "---"
   ]
  },
  {
   "cell_type": "markdown",
   "metadata": {},
   "source": [
    "## 2. Natural Language Processing\n",
    "---\n",
    "###   Tokenizer\n",
    "\n",
    "In this section, you will use NLTK and Python to tokenize the text for each coin. Be sure to:\n",
    "1. Lowercase each word.\n",
    "2. Remove Punctuation.\n",
    "3. Remove Stopwords."
   ]
  },
  {
   "cell_type": "code",
   "execution_count": 10,
   "metadata": {},
   "outputs": [],
   "source": [
    "from nltk.tokenize import word_tokenize, sent_tokenize\n",
    "from nltk.corpus import stopwords\n",
    "from nltk.stem import WordNetLemmatizer, PorterStemmer\n",
    "from string import punctuation\n",
    "import re"
   ]
  },
  {
   "cell_type": "code",
   "execution_count": 11,
   "metadata": {},
   "outputs": [],
   "source": [
    "# Instantiate the lemmatizer\n",
    "# YOUR CODE HERE!\n",
    "\n",
    "# Create a list of stopwords\n",
    "# YOUR CODE HERE!\n",
    "\n",
    "# Expand the default stopwords list if necessary\n",
    "# YOUR CODE HERE!"
   ]
  },
  {
   "cell_type": "code",
   "execution_count": 12,
   "metadata": {},
   "outputs": [],
   "source": [
    "# Complete the tokenizer function\n",
    "def tokenizer(text):\n",
    "    \"\"\"Tokenizes text.\"\"\"\n",
    "    \n",
    "    # Remove the punctuation from text\n",
    "\n",
    "   \n",
    "    # Create a tokenized list of the words\n",
    "    \n",
    "    \n",
    "    # Lemmatize words into root words\n",
    "\n",
    "   \n",
    "    # Convert the words to lowercase\n",
    "    \n",
    "    \n",
    "    # Remove the stop words\n",
    "    \n",
    "    \n",
    "    return tokens"
   ]
  },
  {
   "cell_type": "code",
   "execution_count": 13,
   "metadata": {},
   "outputs": [],
   "source": [
    "# Create a new tokens column for Bitcoin\n",
    "# YOUR CODE HERE!"
   ]
  },
  {
   "cell_type": "code",
   "execution_count": 14,
   "metadata": {},
   "outputs": [],
   "source": [
    "# Create a new tokens column for Ethereum\n",
    "# YOUR CODE HERE!"
   ]
  },
  {
   "cell_type": "markdown",
   "metadata": {},
   "source": [
    "---"
   ]
  },
  {
   "cell_type": "markdown",
   "metadata": {},
   "source": [
    "### NGrams and Frequency Analysis\n",
    "\n",
    "In this section you will look at the ngrams and word frequency for each coin. \n",
    "\n",
    "1. Use NLTK to produce the n-grams for N = 2. \n",
    "2. List the top 10 words for each coin. "
   ]
  },
  {
   "cell_type": "code",
   "execution_count": 15,
   "metadata": {},
   "outputs": [],
   "source": [
    "from collections import Counter\n",
    "from nltk import ngrams"
   ]
  },
  {
   "cell_type": "code",
   "execution_count": 16,
   "metadata": {},
   "outputs": [],
   "source": [
    "# Generate the Bitcoin N-grams where N=2\n",
    "# YOUR CODE HERE!"
   ]
  },
  {
   "cell_type": "code",
   "execution_count": 17,
   "metadata": {},
   "outputs": [],
   "source": [
    "# Generate the Ethereum N-grams where N=2\n",
    "# YOUR CODE HERE!"
   ]
  },
  {
   "cell_type": "code",
   "execution_count": 18,
   "metadata": {},
   "outputs": [],
   "source": [
    "# Function token_count generates the top 10 words for a given coin\n",
    "def token_count(tokens, N=3):\n",
    "    \"\"\"Returns the top N tokens from the frequency count\"\"\"\n",
    "    return Counter(tokens).most_common(N)"
   ]
  },
  {
   "cell_type": "code",
   "execution_count": 19,
   "metadata": {},
   "outputs": [],
   "source": [
    "# Use token_count to get the top 10 words for Bitcoin\n",
    "# YOUR CODE HERE!"
   ]
  },
  {
   "cell_type": "code",
   "execution_count": 20,
   "metadata": {},
   "outputs": [],
   "source": [
    "# Use token_count to get the top 10 words for Ethereum\n",
    "# YOUR CODE HERE!"
   ]
  },
  {
   "cell_type": "markdown",
   "metadata": {},
   "source": [
    "---"
   ]
  },
  {
   "cell_type": "markdown",
   "metadata": {},
   "source": [
    "### Word Clouds\n",
    "\n",
    "In this section, you will generate word clouds for each coin to summarize the news for each coin"
   ]
  },
  {
   "cell_type": "code",
   "execution_count": 21,
   "metadata": {},
   "outputs": [],
   "source": [
    "from wordcloud import WordCloud\n",
    "import matplotlib.pyplot as plt\n",
    "plt.style.use('seaborn-whitegrid')\n",
    "import matplotlib as mpl\n",
    "mpl.rcParams['figure.figsize'] = [20.0, 10.0]"
   ]
  },
  {
   "cell_type": "code",
   "execution_count": 22,
   "metadata": {},
   "outputs": [],
   "source": [
    "# Generate the Bitcoin word cloud\n",
    "# YOUR CODE HERE!"
   ]
  },
  {
   "cell_type": "code",
   "execution_count": 23,
   "metadata": {},
   "outputs": [],
   "source": [
    "# Generate the Ethereum word cloud\n",
    "# YOUR CODE HERE!"
   ]
  },
  {
   "cell_type": "markdown",
   "metadata": {},
   "source": [
    "---\n",
    "## 3. Named Entity Recognition\n",
    "\n",
    "In this section, you will build a named entity recognition model for both Bitcoin and Ethereum, then visualize the tags using SpaCy."
   ]
  },
  {
   "cell_type": "code",
   "execution_count": 24,
   "metadata": {},
   "outputs": [],
   "source": [
    "import spacy\n",
    "from spacy import displacy"
   ]
  },
  {
   "cell_type": "code",
   "execution_count": 25,
   "metadata": {},
   "outputs": [],
   "source": [
    "# Download the language model for SpaCy\n",
    "# !python -m spacy download en_core_web_sm"
   ]
  },
  {
   "cell_type": "code",
   "execution_count": 26,
   "metadata": {},
   "outputs": [],
   "source": [
    "# Load the spaCy model\n",
    "nlp = spacy.load('en_core_web_sm')"
   ]
  },
  {
   "cell_type": "markdown",
   "metadata": {},
   "source": [
    "---\n",
    "### Bitcoin NER"
   ]
  },
  {
   "cell_type": "code",
   "execution_count": 27,
   "metadata": {},
   "outputs": [],
   "source": [
    "# Concatenate all of the Bitcoin text together\n",
    "# YOUR CODE HERE!"
   ]
  },
  {
   "cell_type": "code",
   "execution_count": 28,
   "metadata": {},
   "outputs": [],
   "source": [
    "# Run the NER processor on all of the text\n",
    "# YOUR CODE HERE!\n",
    "\n",
    "# Add a title to the document\n",
    "# YOUR CODE HERE!"
   ]
  },
  {
   "cell_type": "code",
   "execution_count": 29,
   "metadata": {},
   "outputs": [],
   "source": [
    "# Render the visualization\n",
    "# YOUR CODE HERE!"
   ]
  },
  {
   "cell_type": "code",
   "execution_count": 30,
   "metadata": {},
   "outputs": [],
   "source": [
    "# List all Entities\n",
    "# YOUR CODE HERE!"
   ]
  },
  {
   "cell_type": "markdown",
   "metadata": {},
   "source": [
    "---"
   ]
  },
  {
   "cell_type": "markdown",
   "metadata": {},
   "source": [
    "### Ethereum NER"
   ]
  },
  {
   "cell_type": "code",
   "execution_count": 31,
   "metadata": {},
   "outputs": [],
   "source": [
    "# Concatenate all of the Ethereum text together\n",
    "# YOUR CODE HERE!"
   ]
  },
  {
   "cell_type": "code",
   "execution_count": 32,
   "metadata": {},
   "outputs": [],
   "source": [
    "# Run the NER processor on all of the text\n",
    "# YOUR CODE HERE!\n",
    "\n",
    "# Add a title to the document\n",
    "# YOUR CODE HERE!"
   ]
  },
  {
   "cell_type": "code",
   "execution_count": 33,
   "metadata": {},
   "outputs": [],
   "source": [
    "# Render the visualization\n",
    "# YOUR CODE HERE!"
   ]
  },
  {
   "cell_type": "code",
   "execution_count": 34,
   "metadata": {},
   "outputs": [],
   "source": [
    "# List all Entities\n",
    "# YOUR CODE HERE!"
   ]
  },
  {
   "cell_type": "markdown",
   "metadata": {},
   "source": [
    "---"
   ]
  }
 ],
 "metadata": {
  "file_extension": ".py",
  "kernelspec": {
   "display_name": "Python 3",
   "language": "python",
   "name": "python3"
  },
  "language_info": {
   "codemirror_mode": {
    "name": "ipython",
    "version": 3
   },
   "file_extension": ".py",
   "mimetype": "text/x-python",
   "name": "python",
   "nbconvert_exporter": "python",
   "pygments_lexer": "ipython3",
   "version": "3.7.7"
  },
  "mimetype": "text/x-python",
  "name": "python",
  "npconvert_exporter": "python",
  "pygments_lexer": "ipython3",
  "version": 3
 },
 "nbformat": 4,
 "nbformat_minor": 4
}
